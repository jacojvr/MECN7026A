{
 "cells": [
  {
   "cell_type": "markdown",
   "metadata": {},
   "source": [
    "# Introduction to Jupyter Notebooks for MECN 7026 : Finite Element Methods\n",
    "\n",
    "(c) G.J. Jansen van Rensburg (jacojvrensburg@gmail.com)\n",
    "\n",
    "Throughout this course we will use notebooks like this to cover the implementation of the basics and more advanced concepts associated with the finite element method as well as useful procedures that are immplemented into finite element software packages.\n",
    "\n",
    "These notebooks have markdown cells (like this one) and code cells where you'll interact with or modify Python code.\n",
    "\n",
    "_Don’t worry if you don’t have much experience in Python or Jupyter, we will cover some of it in the class examples and you’ll not be expected to do significant programming. I will also be available for consultation and aid after the formal contact sessions should you have any queries afterward. Just use the email provided above_"
   ]
  },
  {
   "cell_type": "markdown",
   "metadata": {},
   "source": [
    "\n",
    "\n",
    "## Text and code"
   ]
  },
  {
   "cell_type": "markdown",
   "metadata": {},
   "source": [
    "We can combine text and code in a notebook to dercibe a subject.\n",
    "\n",
    "Equations will typically be written using [$\\LaTeX$](https://katex.org/) like:\n",
    "\n",
    "$$f(x) = C_0x^3+C_1x^2-C_2 \\; \\text{where} \\; C_0, C_1, C_2 \\in \\mathbb{Z}$$\n",
    "\n",
    "We can also insert images (from local memory or a url link)  \n",
    "**you can double click in the image to see the markdown used**"
   ]
  },
  {
   "cell_type": "markdown",
   "metadata": {},
   "source": [
    "<center><img src=\"https://a.fsdn.com/con/app/proj/calculixforwin/screenshots/Disp%20in%20SolidworksSimulation.png/max/max/1\" alt=\"files\" style=\"width:500px\"></center>"
   ]
  },
  {
   "cell_type": "markdown",
   "metadata": {},
   "source": [
    "## Importing Modules \n",
    "\n",
    "The first code block typically imports the **Python  modules** that we'll use in this notebook\n",
    "\n",
    "Below we import numpy and matplotlib.\n",
    "We also use some notebook \"magic\" denoted by \"%\" to instruct the notebook to plot matplotlib figures in the cell output inline\n"
   ]
  },
  {
   "cell_type": "code",
   "execution_count": 58,
   "metadata": {},
   "outputs": [],
   "source": [
    "import numpy as np\n",
    "import matplotlib.pylab as plt\n",
    "%matplotlib inline"
   ]
  },
  {
   "cell_type": "markdown",
   "metadata": {},
   "source": [
    "\n",
    "## Basic Operations\n",
    "\n",
    "We can do some basic mathematical operations that are native to python  \n",
    "...and add some comments to our code using the hashtag \"#\""
   ]
  },
  {
   "cell_type": "code",
   "execution_count": 27,
   "metadata": {},
   "outputs": [
    {
     "name": "stdout",
     "output_type": "stream",
     "text": [
      "The sum of 132 and 17 is 149\n",
      "132 divided by 17 (and rounded to 2 decimal places) is 7.76\n",
      "17 goes into 132, 7 times (the DIV operator)\n",
      "The integer remainder of 132 devided by 17 is 13 (the MOD operator)\n"
     ]
    }
   ],
   "source": [
    "# we can add comments in a dedicated line\n",
    "A = 132 # or inline with some code\n",
    "B = 17\n",
    "# calculate the sum of the two variables\n",
    "total = A+B\n",
    "# calculate a real devision, also the div and mod operators \n",
    "fract = A/B\n",
    "mod = A%B # the mod operator \"%\" calculates the remainder of a devision\n",
    "div = A//B # the div operator \"//\" calculates integer devision\n",
    "# now print out the lot:\n",
    "print(f'The sum of {A} and {B} is {total}')\n",
    "print(f'{A} divided by {B} (and rounded to 2 decimal places) is {round(fract,2)}')\n",
    "print(f'{B} goes into {A}, {div} integer times (the DIV operator)')\n",
    "print(f'The integer remainder of {A} devided by {B} is {mod} (the MOD operator)')"
   ]
  },
  {
   "cell_type": "markdown",
   "metadata": {},
   "source": [
    "\n",
    "## We can define functions\n",
    "\n",
    "... and include doc strings to help \"a human\" understand what the function does"
   ]
  },
  {
   "cell_type": "code",
   "execution_count": 29,
   "metadata": {},
   "outputs": [],
   "source": [
    "def fx(x):\n",
    "    '''\n",
    "    This is a docstring...\n",
    "    \n",
    "    Give a value of:\n",
    "    x\n",
    "    this function calculates and returns\n",
    "    f(x) = x**2 - 7x + 3\n",
    "    '''\n",
    "    y = x**2 - 7*x + 3\n",
    "    \n",
    "    return y #important to return the value(s) or variable(s) to have access to that outside of the function"
   ]
  },
  {
   "cell_type": "markdown",
   "metadata": {},
   "source": [
    "\n",
    "If a function (or module) has a docstring, we can use the **help** function to get that information"
   ]
  },
  {
   "cell_type": "code",
   "execution_count": 30,
   "metadata": {},
   "outputs": [
    {
     "name": "stdout",
     "output_type": "stream",
     "text": [
      "Help on function fx in module __main__:\n",
      "\n",
      "fx(x)\n",
      "    This is a docstring...\n",
      "    \n",
      "    Give a value of:\n",
      "    x\n",
      "    this function calculates and returns\n",
      "    f(x) = 2*x**2 - 7x + 3\n",
      "\n"
     ]
    }
   ],
   "source": [
    "help(fx)"
   ]
  },
  {
   "cell_type": "markdown",
   "metadata": {},
   "source": [
    "... calling a function is simple:\n"
   ]
  },
  {
   "cell_type": "code",
   "execution_count": 40,
   "metadata": {},
   "outputs": [
    {
     "name": "stdout",
     "output_type": "stream",
     "text": [
      "(a) fx(0.1) = 2.32\n",
      "(b) fx(0.1) = 2.32\n"
     ]
    }
   ],
   "source": [
    "y_value = fx(0.1)\n",
    "print(f'(a) fx(0.1) = {y_value}') # printing a pre-computed value \n",
    "print(f'(b) fx(0.1) = {fx(0.1)}') # calling the function fx within the print function"
   ]
  },
  {
   "cell_type": "markdown",
   "metadata": {},
   "source": [
    "\n",
    "## Loops\n",
    "\n",
    "a simple if statement:"
   ]
  },
  {
   "cell_type": "code",
   "execution_count": 41,
   "metadata": {},
   "outputs": [
    {
     "name": "stdout",
     "output_type": "stream",
     "text": [
      "ERROR : We cant divide by zero!\n"
     ]
    }
   ],
   "source": [
    "divisor = 0.0\n",
    "if divisor == 0.0:\n",
    "    print('ERROR : We can''t divide by zero!')"
   ]
  },
  {
   "cell_type": "markdown",
   "metadata": {},
   "source": [
    "...or an **IF** ... **ELSE** statement"
   ]
  },
  {
   "cell_type": "code",
   "execution_count": 42,
   "metadata": {},
   "outputs": [
    {
     "name": "stdout",
     "output_type": "stream",
     "text": [
      "SUCCESS : 7.0 / 5.0 = 1.4\n"
     ]
    }
   ],
   "source": [
    "dividend = 7.0\n",
    "divisor = 5.0\n",
    "if divisor == 0.0:\n",
    "    print('ERROR : We can''t divide by zero!')\n",
    "else:\n",
    "    print(f'SUCCESS : {dividend} / {divisor} = {dividend/divisor}')"
   ]
  },
  {
   "cell_type": "markdown",
   "metadata": {},
   "source": [
    "... a **WHILE** loop:"
   ]
  },
  {
   "cell_type": "code",
   "execution_count": 43,
   "metadata": {},
   "outputs": [
    {
     "name": "stdout",
     "output_type": "stream",
     "text": [
      "icount is now = 1\n",
      "icount is now = 2\n",
      "icount is now = 3\n",
      "final icount is = 3\n"
     ]
    }
   ],
   "source": [
    "icount = 0\n",
    "while icount<3:\n",
    "    icount = icount+1\n",
    "    print(f'icount is now = {icount}')\n",
    "    \n",
    "print(f'final icount is = {icount}')"
   ]
  },
  {
   "cell_type": "markdown",
   "metadata": {},
   "source": [
    "... a **FOR** loop"
   ]
  },
  {
   "cell_type": "code",
   "execution_count": 50,
   "metadata": {},
   "outputs": [
    {
     "name": "stdout",
     "output_type": "stream",
     "text": [
      "icount is = 0\n",
      "icount is = 1\n",
      "icount is = 2\n",
      "the list looped over is [0, 1, 2]\n",
      "\n",
      "jount is = 1\n",
      "jount is = 2\n",
      "jount is = 3\n"
     ]
    }
   ],
   "source": [
    "for icount in range(3):\n",
    "    print(f'icount is = {icount}')\n",
    "    \n",
    "print(f'the list looped over is {list(range(3))}\\n') # note that Python uses 0 first indexing \n",
    "# also note the newline character \"\\n\" above\n",
    "\n",
    "# we can get 1 to 3 by doing the following\n",
    "for jcount in range(1,4):\n",
    "    print(f'jount is = {jcount}')"
   ]
  },
  {
   "cell_type": "markdown",
   "metadata": {},
   "source": [
    "## Using matplotlib to plot a function"
   ]
  },
  {
   "cell_type": "code",
   "execution_count": 64,
   "metadata": {},
   "outputs": [
    {
     "name": "stdout",
     "output_type": "stream",
     "text": [
      "[0.   0.05 0.1  0.15 0.2  0.25 0.3  0.35 0.4  0.45 0.5  0.55 0.6  0.65\n",
      " 0.7  0.75 0.8  0.85 0.9  0.95 1.   1.05 1.1  1.15 1.2  1.25 1.3  1.35\n",
      " 1.4  1.45 1.5  1.55 1.6  1.65 1.7  1.75 1.8  1.85 1.9  1.95 2.   2.05\n",
      " 2.1  2.15 2.2  2.25 2.3  2.35 2.4  2.45 2.5  2.55 2.6  2.65 2.7  2.75\n",
      " 2.8  2.85 2.9  2.95 3.   3.05 3.1  3.15 3.2  3.25 3.3  3.35 3.4  3.45\n",
      " 3.5  3.55 3.6  3.65 3.7  3.75 3.8  3.85 3.9  3.95 4.   4.05 4.1  4.15\n",
      " 4.2  4.25 4.3  4.35 4.4  4.45 4.5  4.55 4.6  4.65 4.7  4.75 4.8  4.85\n",
      " 4.9  4.95 5.  ]\n",
      "\n",
      "Shape of the array =  (101,)\n"
     ]
    }
   ],
   "source": [
    "# number if data points:\n",
    "npts = 101\n",
    "x = np.linspace(0,5,npts)\n",
    "\n",
    "print(x)\n",
    "print('\\nShape of the array = ',x.shape)"
   ]
  },
  {
   "cell_type": "markdown",
   "metadata": {},
   "source": [
    "... get the y values using the function defined above:"
   ]
  },
  {
   "cell_type": "code",
   "execution_count": 65,
   "metadata": {},
   "outputs": [
    {
     "name": "stdout",
     "output_type": "stream",
     "text": [
      "[ 3.     2.655  2.32   1.995  1.68   1.375  1.08   0.795  0.52   0.255\n",
      "  0.    -0.245 -0.48  -0.705 -0.92  -1.125 -1.32  -1.505 -1.68  -1.845\n",
      " -2.    -2.145 -2.28  -2.405 -2.52  -2.625 -2.72  -2.805 -2.88  -2.945\n",
      " -3.    -3.045 -3.08  -3.105 -3.12  -3.125 -3.12  -3.105 -3.08  -3.045\n",
      " -3.    -2.945 -2.88  -2.805 -2.72  -2.625 -2.52  -2.405 -2.28  -2.145\n",
      " -2.    -1.845 -1.68  -1.505 -1.32  -1.125 -0.92  -0.705 -0.48  -0.245\n",
      "  0.     0.255  0.52   0.795  1.08   1.375  1.68   1.995  2.32   2.655\n",
      "  3.     3.355  3.72   4.095  4.48   4.875  5.28   5.695  6.12   6.555\n",
      "  7.     7.455  7.92   8.395  8.88   9.375  9.88  10.395 10.92  11.455\n",
      " 12.    12.555 13.12  13.695 14.28  14.875 15.48  16.095 16.72  17.355\n",
      " 18.   ]\n"
     ]
    }
   ],
   "source": [
    "y = fx(x)\n",
    "print(y)"
   ]
  },
  {
   "cell_type": "markdown",
   "metadata": {},
   "source": [
    "Now a basic plot using matplotlib:"
   ]
  },
  {
   "cell_type": "code",
   "execution_count": 72,
   "metadata": {},
   "outputs": [
    {
     "data": {
      "image/png": "[encoded data removed]",
      "text/plain": [
       "<Figure size 720x360 with 1 Axes>"
      ]
     },
     "metadata": {
      "needs_background": "light"
     },
     "output_type": "display_data"
    }
   ],
   "source": [
    "plt.figure(1, figsize=(10,5));\n",
    "plt.plot(x,y);\n",
    "plt.xlabel('X axis label',fontsize=16);\n",
    "plt.ylabel('f(x)',fontsize=16);"
   ]
  }
 ],
 "metadata": {
  "kernelspec": {
   "display_name": "Python 3",
   "language": "python",
   "name": "python3"
  },
  "language_info": {
   "codemirror_mode": {
    "name": "ipython",
    "version": 3
   },
   "file_extension": ".py",
   "mimetype": "text/x-python",
   "name": "python",
   "nbconvert_exporter": "python",
   "pygments_lexer": "ipython3",
   "version": "3.7.4"
  }
 },
 "nbformat": 4,
 "nbformat_minor": 2
}
