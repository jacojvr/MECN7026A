{
 "cells": [
  {
   "cell_type": "markdown",
   "metadata": {},
   "source": [
    "# Interpreting a CalculiX input file\n",
    "\n",
    "(c) G.J. Jansen van Rensburg (jacojvrensburg@gmail.com)\n"
   ]
  },
  {
   "cell_type": "code",
   "execution_count": 5,
   "metadata": {},
   "outputs": [],
   "source": [
    "# first import the mdules we'll need:\n",
    "import numpy as np\n",
    "import matplotlib.pylab as plt\n",
    "%matplotlib inline\n",
    "# utility functions for the course\n",
    "import mecn7026_utils as uf\n",
    "# ccx input file interpreter\n",
    "from setup_from_ccx_inp import bvp_dict\n",
    "\n"
   ]
  },
  {
   "cell_type": "code",
   "execution_count": 6,
   "metadata": {
    "scrolled": false
   },
   "outputs": [
    {
     "name": "stdout",
     "output_type": "stream",
     "text": [
      "**\n",
      "**  MODEL A  SIMPLE BRIDGE USING\n",
      "**  TWO NODE TRUSS ELEMENTS (T3D2)\n",
      "**\n",
      "**\n",
      "*NODE,NSET=Nall\n",
      "**\n",
      "1, 0.000000, 0.000000, 0.000000\n",
      "2, 2.000000, 5.000000, 0.000000\n",
      "3, 4.000000, 0.000000, 0.000000\n",
      "4, 6.000000, 5.000000, 0.000000\n",
      "5, 8.000000, 0.000000, 0.000000\n",
      "6, 10.000000, 5.000000, 0.000000\n",
      "7, 12.000000, 0.000000, 0.000000\n",
      "8, 14.000000, 5.000000, 0.000000\n",
      "9, 16.000000, 0.000000, 0.000000\n",
      "10, 18.000000, 5.000000, 0.000000\n",
      "11, 20.000000, 0.000000, 0.000000\n",
      "**\n",
      "*ELEMENT,TYPE=T3D2,ELSET=EAll\n",
      "1, 1, 2\n",
      "2, 1, 3\n",
      "3, 2, 3\n",
      "4, 2, 4\n",
      "5, 3, 4\n",
      "6, 3, 5\n",
      "7, 4, 5\n",
      "8, 4, 6\n",
      "9, 5, 6\n",
      "10, 5, 7\n",
      "11, 6, 7\n",
      "12, 6, 8\n",
      "13, 7, 8\n",
      "14, 7, 9\n",
      "15, 8, 9\n",
      "16, 8, 10\n",
      "17, 9, 10\n",
      "18, 9, 11\n",
      "19, 10, 11\n",
      "**\n",
      "*BOUNDARY\n",
      "1,1,2\n",
      "11,1,2\n",
      "NALL,3,3\n",
      "*MATERIAL,NAME=STEEL\n",
      "*ELASTIC\n",
      "2E11,.3\n",
      "*DENSITY\n",
      "7830.\n",
      "*SOLID SECTION,ELSET=EAll,MATERIAL=STEEL\n",
      "2.5e-5\n",
      "*STEP\n",
      "*STATIC\n",
      "*CLOAD\n",
      "1, 2, -20000.000000\n",
      "3, 2, -40000.000000\n",
      "5, 2, -40000.000000\n",
      "7, 2, -40000.000000\n",
      "9, 2, -40000.000000\n",
      "11, 2, -20000.000000\n",
      "*DLOAD\n",
      "EALL,GRAV,9.81,0.,-1.,0.\n",
      "*EL PRINT,ELSET=Eall,FREQUENCY=100\n",
      "S\n",
      "*Node PRINT,NSET=Nall,FREQUENCY=100\n",
      "U\n",
      "*NODE FILE,OUTPUT=3D\n",
      "U\n",
      "*EL FILE\n",
      "S\n",
      "*END STEP\n"
     ]
    }
   ],
   "source": [
    "# file:\n",
    "folder = 'meshes/'\n",
    "filename = 'bridge_01c'\n",
    "input_file = folder+filename+'.inp'\n",
    "print(open(input_file).read())"
   ]
  },
  {
   "cell_type": "markdown",
   "metadata": {},
   "source": [
    "...\n",
    "\n",
    "## We have a utility function that feeds all of the relevant information into a case dictionary"
   ]
  },
  {
   "cell_type": "code",
   "execution_count": 8,
   "metadata": {},
   "outputs": [
    {
     "name": "stdout",
     "output_type": "stream",
     "text": [
      "Assigned 11 nodal coordinates to BVP in 0.0009 seconds\n",
      "Assigned 19, << t3d2 >> type element definitions to BVP in 0.0010 seconds\n",
      "--> ADDING A FIXED BOUNDARY DEFINITION\n",
      "--> ADDING A MATERIAL DEFINITION\n",
      "Assigned material << steel >> in 0.0010 seconds\n",
      "--> ADDING A SECTION DEFINITION\n",
      "--> ADDING A STEP DEFINITION\n",
      " >> STEP TYPE   =   << STATIC >>\n"
     ]
    }
   ],
   "source": [
    "aa = bvp_dict('meshes/bridge_01c.inp')"
   ]
  },
  {
   "cell_type": "code",
   "execution_count": 10,
   "metadata": {},
   "outputs": [
    {
     "data": {
      "text/plain": [
       "{0: {'*boundary': {1: {1: {'value': 0.0, 'fixed': True},\n",
       "    2: {'value': 0.0, 'fixed': True},\n",
       "    3: {'value': 0.0, 'fixed': True}},\n",
       "   11: {1: {'value': 0.0, 'fixed': True},\n",
       "    2: {'value': 0.0, 'fixed': True},\n",
       "    3: {'value': 0.0, 'fixed': True}},\n",
       "   2: {3: {'value': 0.0, 'fixed': True}},\n",
       "   3: {3: {'value': 0.0, 'fixed': True}},\n",
       "   4: {3: {'value': 0.0, 'fixed': True}},\n",
       "   5: {3: {'value': 0.0, 'fixed': True}},\n",
       "   6: {3: {'value': 0.0, 'fixed': True}},\n",
       "   7: {3: {'value': 0.0, 'fixed': True}},\n",
       "   8: {3: {'value': 0.0, 'fixed': True}},\n",
       "   9: {3: {'value': 0.0, 'fixed': True}},\n",
       "   10: {3: {'value': 0.0, 'fixed': True}}}},\n",
       " 1: {'*inc': 1000,\n",
       "  '*nlgeom': False,\n",
       "  '*direct': False,\n",
       "  '*explicit': False,\n",
       "  '*steady state': False,\n",
       "  '*type': '*static',\n",
       "  '*time': [1.0, 1.0, 1.0, 1.0]}}"
      ]
     },
     "execution_count": 10,
     "metadata": {},
     "output_type": "execute_result"
    }
   ],
   "source": [
    "aa.steps\n"
   ]
  },
  {
   "cell_type": "code",
   "execution_count": 4,
   "metadata": {},
   "outputs": [
    {
     "data": {
      "text/plain": [
       "{'nodes': [1.0, 2.0, 3.0, 4.0, 5.0, 6.0, 7.0, 8.0, 9.0, 10.0, 11.0],\n",
       " 'coor': array([[ 0.,  0.,  0.],\n",
       "        [ 2.,  5.,  0.],\n",
       "        [ 4.,  0.,  0.],\n",
       "        [ 6.,  5.,  0.],\n",
       "        [ 8.,  0.,  0.],\n",
       "        [10.,  5.,  0.],\n",
       "        [12.,  0.,  0.],\n",
       "        [14.,  5.,  0.],\n",
       "        [16.,  0.,  0.],\n",
       "        [18.,  5.,  0.],\n",
       "        [20.,  0.,  0.]]),\n",
       " 'eltype': 'T3D2',\n",
       " 'elnodes': array([[ 1,  1,  2],\n",
       "        [ 2,  1,  3],\n",
       "        [ 3,  2,  3],\n",
       "        [ 4,  2,  4],\n",
       "        [ 5,  3,  4],\n",
       "        [ 6,  3,  5],\n",
       "        [ 7,  4,  5],\n",
       "        [ 8,  4,  6],\n",
       "        [ 9,  5,  6],\n",
       "        [10,  5,  7],\n",
       "        [11,  6,  7],\n",
       "        [12,  6,  8],\n",
       "        [13,  7,  8],\n",
       "        [14,  7,  9],\n",
       "        [15,  8,  9],\n",
       "        [16,  8, 10],\n",
       "        [17,  9, 10],\n",
       "        [18,  9, 11],\n",
       "        [19, 10, 11]]),\n",
       " 'displ': [[1.0, 1.0, 2.0], [11.0, 1.0, 2.0]],\n",
       " 'cload': [[1.0, 2.0, -20000.0],\n",
       "  [3.0, 2.0, -40000.0],\n",
       "  [5.0, 2.0, -40000.0],\n",
       "  [7.0, 2.0, -40000.0],\n",
       "  [9.0, 2.0, -40000.0],\n",
       "  [11.0, 2.0, -20000.0]],\n",
       " 'grav': [9.81, 0.0, -1.0, 0.0],\n",
       " 'section': 2.5e-05,\n",
       " 'material': {'elastic': [200000000000.0, 0.3], 'density': 7830.0}}"
      ]
     },
     "execution_count": 4,
     "metadata": {},
     "output_type": "execute_result"
    }
   ],
   "source": [
    "# translated into a case structure\n",
    "# (for use in the course notebooks)\n",
    "case = uf.read_input_file(input_file)\n",
    "case"
   ]
  },
  {
   "cell_type": "code",
   "execution_count": 4,
   "metadata": {},
   "outputs": [
    {
     "data": {
      "text/plain": [
       "{'elastic': [200000000000.0, 0.3], 'density': 7830.0}"
      ]
     },
     "execution_count": 4,
     "metadata": {},
     "output_type": "execute_result"
    }
   ],
   "source": [
    "# or you can explore specific parts of the case dictionary:\n",
    "# e.g.\n",
    "case['material']"
   ]
  },
  {
   "cell_type": "markdown",
   "metadata": {},
   "source": [
    "\n",
    "# incredibly important...\n",
    "\n",
    "## the \"read_input_file\" utility function only supports a few keywords and a simple input file structure \n",
    "\n",
    "## the purpose is just to illustrate examples in the course notebooks and NOT to capture all of the functionality in CalculiX\n",
    "\n",
    "_(it basically covers the keywords in the file illustrated as well as basic plasticity and other element types)_"
   ]
  },
  {
   "cell_type": "code",
   "execution_count": null,
   "metadata": {},
   "outputs": [],
   "source": []
  }
 ],
 "metadata": {
  "kernelspec": {
   "display_name": "Python 3",
   "language": "python",
   "name": "python3"
  },
  "language_info": {
   "codemirror_mode": {
    "name": "ipython",
    "version": 3
   },
   "file_extension": ".py",
   "mimetype": "text/x-python",
   "name": "python",
   "nbconvert_exporter": "python",
   "pygments_lexer": "ipython3",
   "version": "3.7.4"
  }
 },
 "nbformat": 4,
 "nbformat_minor": 2
}
