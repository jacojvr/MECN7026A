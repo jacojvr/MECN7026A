{
 "cells": [
  {
   "cell_type": "markdown",
   "metadata": {},
   "source": [
    "# 2D Truss Elements\n",
    "\n",
    "In this notebook we implement our first two-dimensional finite element code, focusing on an implementation of simple truss elements.\n",
    "\n",
    "The structure of the code can later be converted into a general program to consider a variety of finite element formulations by modifying the appropriate subroutines to represent the force-displacement (stiffness) equations for each element.\n",
    "\n",
    "**_NOTE:  \n",
    "The figures, much of the structure and specific problems solved in this notebook are taken from the notebook:  \n",
    "[13_truss_elements.ipynb](https://nbviewer.jupyter.org/github/jacojvr/Introductory-Finite-Elements/blob/a1431adaaaf5304a233e33e8967bde598790db9d/notebooks/13_truss_elements.ipynb) by Juan Gomez_**"
   ]
  },
  {
   "cell_type": "code",
   "execution_count": 1,
   "metadata": {},
   "outputs": [],
   "source": [
    "# first import the mdules we'll need:\n",
    "import numpy as np\n",
    "from scipy import sparse\n",
    "from scipy.sparse import linalg \n",
    "import matplotlib.pylab as plt\n",
    "%matplotlib inline"
   ]
  },
  {
   "cell_type": "markdown",
   "metadata": {},
   "source": [
    "A  truss element only has axial stiffness $\\frac{AE}{L}$\n",
    "\n",
    "The force-displacement relationship in its local reference system is:\n",
    "\n",
    "$$\n",
    "\\begin{Bmatrix}f_1\\\\f_2\\end{Bmatrix}=\\frac{AE}{L}\\begin{bmatrix}1&-1\\\\-1&1\\end{bmatrix}\\begin{Bmatrix}u_1\\\\u_2\\end{Bmatrix}\n",
    "$$\n",
    "\n",
    "where $u_1$, $u_2$, $f_1$ and $f_2$ are all inline with the element axis.\n",
    "\n",
    "\n",
    "\n",
    "<center><img src=\"https://drive.google.com/file/d/1Khxs9Fd7V23xrM6W0bbJrOT9X9FjID6P/view?usp=sharing\" alt=\"files\" style=\"width:500px\"></center>\n",
    "\n",
    "**_Figure 1: A truss element in its local reference system_**  \n",
    "(see [13_truss_elements.ipynb](https://nbviewer.jupyter.org/github/jacojvr/Introductory-Finite-Elements/blob/a1431adaaaf5304a233e33e8967bde598790db9d/notebooks/13_truss_elements.ipynb) for the original)\n"
   ]
  },
  {
   "cell_type": "markdown",
   "metadata": {},
   "source": [
    "\n",
    "\n",
    "## Constructing a case dictionary for a problem we want to solve\n",
    "\n",
    "\n",
    "Consider we want to solve the displacements unknowns that mean the structure assembled using the two-elements below are in equilibrium...\n",
    "\n",
    "\n",
    "<center><img src=\"https://nbviewer.jupyter.org/github/jacojvr/Introductory-Finite-Elements/blob/a1431adaaaf5304a233e33e8967bde598790db9d/notebooks/img/cercha2.png\" alt=\"files\" style=\"width:500px\"></center>\n",
    "\n",
    "**_Figure 2: Simple two truss structure _**  \n",
    "(again see [13_truss_elements.ipynb](https://nbviewer.jupyter.org/github/jacojvr/Introductory-Finite-Elements/blob/a1431adaaaf5304a233e33e8967bde598790db9d/notebooks/13_truss_elements.ipynb) for the original)\n",
    "\n",
    "...\n",
    "\n",
    "\n",
    "There are different software packages or analytical approaches to solve this simple problem,  \n",
    "depending on the FE package we use, there's a range of different input file formats we can choose from\n",
    "\n",
    "### In this course (and notebooks / class examples):\n",
    "\n",
    "* _We'll use a Python \"dictionary of dictionaries\"  to contain all of the relevant information in a structured format._\n",
    "\n",
    "*  _To further have interchangablility with the CalculiX input deck format, we also won't allow 0 indexing of nodes or elements, so..._\n",
    "\n",
    "### ...the lowest element or node number allowed is  1 , not  0  !!**"
   ]
  },
  {
   "cell_type": "code",
   "execution_count": 116,
   "metadata": {},
   "outputs": [],
   "source": [
    "# Lets construct a case dictionary for the layout in Figure 2:\n",
    "case = {\n",
    "    # first define nodal coordinates { x,y } for each of the nodes\n",
    "        'node': {1 : [ 0.,  0.], # node 1 : x= 0., y = 0.  ... node 0 in Figure 2, but zero indexing not allowed\n",
    "                 2 : [ 3.,  0.], # node 2 : x= 3., y = 0.  ... node 1 in Figure 2\n",
    "                 3 : [ 1.5,  1.5]}, # node 3 : x= 1.5, y = 1.5  ... node 2 in Figure 2\n",
    "    # now define the elements (element sets defined by giving each a name) \n",
    "        'element': {'frame' : {'type': 't3d2', # the 2D Truss element consistent with CalculiX\n",
    "                               1 : [ 1, 3 ], # elements and connectivity (e.g. element 1 connects node 1 and 3) \n",
    "                               2 : [ 2, 3 ]}},\n",
    "    # define the FIXED displacement boundary conditions:\n",
    "    # takes the form... (node, dof) : value\n",
    "        'boundary' : {(1,1) : 0., # node 1, direction 1 (x) has a prescribed value of 0 (i.e. fixed in place)\n",
    "                      (1,2) : 0.,\n",
    "                      (2,1) : 0.,\n",
    "                      (2,2) : 0.},\n",
    "    # define materials used in the study, each material has a name and various properties associated with it\n",
    "    # we'll use material keywords (i) elastic, (ii) plastic and (iii) density in this course...\n",
    "    # this example material has only elastic behaviour\n",
    "        'material' : {'example' : {'elastic' : [ 1.0, 0.0] }, # elastic properties [ Young's Modulus, Poisson's ratio]\n",
    "                     },\n",
    "    # define a section to model ... typically linking an element set with a material and defining the section thickness / area\n",
    "        'section' : {0 : {'el_set' : 'frame', # element set\n",
    "                          'material' : 'example', # uses a specific material defined\n",
    "                          'area': 0.1}}, # has a specific thickness or area\n",
    "    # define the step to solve...\n",
    "    # this includes the time, loads and displacements active in a specific step\n",
    "    # we could have multiple steps for e.g. a loading and unloading process if we include further steps...[2,3 etc.]\n",
    "        'step' : {1 :  # time = [initial time step size, total step time, minimum step size, maximum step size]\n",
    "                      {'time' : [1., 1., 1., 1.],\n",
    "                       # define a concentrated / nodal load\n",
    "                       # takes the form... (node, dof) : value\n",
    "                       'cload' : {(3,1) : -1},   # node 3, direction 1 (x) has a concentrated load of -1 (at the end of the step time)\n",
    "                       # ... will use this to further define PRESCRIBED displacement or DISTRIBUTED loads later\n",
    "                       #\n",
    "                       #\n",
    "                       # also NOTE:\n",
    "                       # We can also do prescribed displacements in the step definition later on...\n",
    "                       # for this introduction and code to follow, we don't take prescribed displacements into account\n",
    "                       \n",
    "                      }}} "
   ]
  },
  {
   "cell_type": "code",
   "execution_count": 117,
   "metadata": {},
   "outputs": [
    {
     "name": "stdout",
     "output_type": "stream",
     "text": [
      "\n",
      "The nodes associated with element 1 is [1, 3]\n",
      "\n",
      "The actual nodal coordinates are:\n",
      "[[0.  0. ]\n",
      " [1.5 1.5]]\n"
     ]
    }
   ],
   "source": [
    "# what are the coordinates of element 1?\n",
    "el_nr = 1\n",
    "#\n",
    "# nodes associated with the element\n",
    "el_nodes = case['element']['frame'][el_nr]\n",
    "print(f'\\nThe nodes associated with element {el_nr} is {el_nodes}')\n",
    "#\n",
    "# coordinates associated with those nodes\n",
    "el_coords = np.array([case['node'][i] for i in el_nodes])\n",
    "print('\\nThe actual nodal coordinates are:')\n",
    "print(el_coords)"
   ]
  },
  {
   "cell_type": "markdown",
   "metadata": {},
   "source": [
    "## Now, some helper or utility functions:\n",
    "\n",
    "## (UTILITY FUNCTION 1)\n",
    "Here we define and test a function that takes a node and local degree of freedom tuple asd returns a global dof:\n",
    "\n",
    "For our global system, note that Python uses 0 indexing, so:\n",
    " * Node 1, Direction 1 (x) will be global dof = 0\n",
    " * Node 1, Direction 2 (y) will be global dof = 1\n",
    " * There is no direction 3 (z) in 2D - so...\n",
    " * Node 2, Direction 1 (x) will be global dof = 3\n",
    " * ... and so on\n"
   ]
  },
  {
   "cell_type": "code",
   "execution_count": 118,
   "metadata": {},
   "outputs": [
    {
     "name": "stdout",
     "output_type": "stream",
     "text": [
      "\n",
      "**The global degree of freedom associated with node 1 in direction 1 is 0\n",
      "\n",
      "**The global degree of freedom associated with node 1 in direction 2 is 1\n",
      "\n",
      "**The global degree of freedom associated with node 3 in direction 1 is 4\n",
      "\n",
      "**The global degree of freedom associated with node 15 in direction 2 is 29\n"
     ]
    }
   ],
   "source": [
    "# Here we define and test a function that takes a node and local degree of freedom tuple asnd returns a global dof:\n",
    "#\n",
    "# For our global system, note that Python uses 0 indexing, so:\n",
    "# Node 1, Direction 1 will be global dof = 0\n",
    "g_dof = lambda xd : 2*(xd[0]-1)+xd[1]-1\n",
    "\n",
    "g_dof_print = lambda xd : print(f'\\n**The global degree of freedom associated with node {xd[0]} in direction {xd[1]} is {g_dof(xd)}')\n",
    "\n",
    "g_dof_print((1,1))\n",
    "g_dof_print((1,2))\n",
    "g_dof_print((3,1))\n",
    "g_dof_print((15,2))"
   ]
  },
  {
   "cell_type": "markdown",
   "metadata": {},
   "source": [
    "\n",
    "\n",
    "## (UTILITY FUNCTION 2)\n",
    "Given an element definition, return all of the element global degrees of freedom\n",
    "\n",
    "For an element with two nodes:\n",
    "\\[ 1 , 3 \\]\n",
    "\n",
    "and two local degree of freedom  \n",
    "(x-direction) --> (1) and  \n",
    "(y-direction) --> (2)  \n",
    "\n",
    "The global degrees of freedom are mapped:  \n",
    "(1,1) --> 0  \n",
    "(1,2) --> 1  \n",
    "(3,1) --> 4  \n",
    "(3,2) --> 5\n"
   ]
  },
  {
   "cell_type": "code",
   "execution_count": 119,
   "metadata": {},
   "outputs": [
    {
     "name": "stdout",
     "output_type": "stream",
     "text": [
      "\n",
      "**The global degrees of freedom associated with element nodes\n",
      "\t[1, 3]\n",
      "is \n",
      "\t[0, 1, 4, 5]\n",
      "\n",
      "**The global degrees of freedom associated with element nodes\n",
      "\t[2, 5, 9, 12]\n",
      "is \n",
      "\t[2, 3, 8, 9, 16, 17, 22, 23]\n"
     ]
    }
   ],
   "source": [
    "# Here we define and test a function that takes an element definition and\n",
    "# returns a list of global degrees of freedom associated with the element\n",
    "\n",
    "el_dof = lambda el_nodes : [ 2*(nd-1)+l_dof for nd in el_nodes for l_dof in [0,1]]\n",
    "\n",
    "el_dof_print = lambda el_nodes : print(f'\\n**The global degrees of freedom associated with element nodes\\n\\t{el_nodes}\\nis \\n\\t{el_dof(el_nodes)}')\n",
    "\n",
    "el_dof_print([1,3])\n",
    "el_dof_print([2,5,9,12])"
   ]
  },
  {
   "cell_type": "markdown",
   "metadata": {},
   "source": [
    "\n",
    "## NOW...\n",
    "\n",
    "## Exporing / navigating the case dictionary...\n",
    "\n"
   ]
  },
  {
   "cell_type": "code",
   "execution_count": 120,
   "metadata": {},
   "outputs": [
    {
     "name": "stdout",
     "output_type": "stream",
     "text": [
      "\n",
      "section_info = \n",
      " {'el_set': 'frame', 'material': 'example', 'area': 0.1}\n",
      "\n",
      "section_material = \n",
      " {'example': {'elastic': [1.0, 0.0]}}\n",
      "\n",
      "material_info = \n",
      " {'elastic': [1.0, 0.0]}\n"
     ]
    }
   ],
   "source": [
    "# well construct the global stiffness over each section...\n",
    "\n",
    "# in this case we only have section = 0\n",
    "section_info = case['section'][0]\n",
    "print('\\nsection_info = \\n',section_info)\n",
    "\n",
    "# for an element stiffness matrix, we'll also need the section mataterial\n",
    "section_material = case['material']\n",
    "print('\\nsection_material = \\n',section_material)\n",
    "\n",
    "# the material used in this section is:\n",
    "material_info = section_material[section_info['material']]\n",
    "print('\\nmaterial_info = \\n',material_info)"
   ]
  },
  {
   "cell_type": "markdown",
   "metadata": {},
   "source": [
    "## The element stiffness matrix\n",
    "\n",
    "** _The definition of the truss element stiffness matrix as copied from [13_truss_elements.ipynb](https://nbviewer.jupyter.org/github/jacojvr/Introductory-Finite-Elements/blob/a1431adaaaf5304a233e33e8967bde598790db9d/notebooks/13_truss_elements.ipynb) is presented in this markdown cell...this notebook just replaces $\\lambda$ in the original notebook with $Q$_.\n",
    "\n",
    "To obtain the total stiffness from the structure it is now necessary to consider the stiffness contribution from all the elements in a common (**Global**) reference system.\n",
    "\n",
    "Let:\n",
    "\n",
    "* $U, F$ : Displacements degrees of freedom and forces in the global reference system.\n",
    "* $u, f$ : Displacements degrees of freedom and forces in the local reference system.\n",
    "\n",
    "and related by the rotational transformation matrix $Q$ like;\n",
    "\n",
    "$$u=Q U.$$\n",
    "\n",
    "Using the fact that the virtual energy of the forces upon imposition of virtual displacements is a reference-independent scalar quantity gives:\n",
    "\n",
    "$$\\delta U^TF=\\delta u^Tf.$$\n",
    "\n",
    "Using the first equation in the second yields;\n",
    "\n",
    "$$\\delta U^TF=\\delta U^T Q^Tf$$\n",
    "\n",
    "from which:\n",
    "\n",
    "$$F=Q^Tf.$$\n",
    "\n",
    "Now, conisdering the equilibrium relation for the element in the local system:\n",
    "\n",
    "$$f=ku$$\n",
    "\n",
    "where $k$ is the local stiffness matrix we can write:\n",
    "\n",
    "$$\\begin{array}{l}Q^Tf=Q^Tku\\\\Q^Tf=Q^TkQ U\\\\F=KU\\end{array}$$\n",
    "\n",
    "from which:\n",
    "\n",
    "$$K=Q^TkQ$$\n",
    "\n",
    "where $K$ is the stiffness matrix for the two-dimensional truss element in the global reference system. It must be observed that in the global reference system the element has two degrees of freedom per node."
   ]
  },
  {
   "cell_type": "code",
   "execution_count": 121,
   "metadata": {},
   "outputs": [],
   "source": [
    "# here implement the element stiffness function:\n",
    "\n",
    "def el_stiffness(el_coords , section_info , material_info):\n",
    "    \n",
    "    # calculate element vector and length:\n",
    "    vec = el_coords[1, :] - el_coords[0, :]\n",
    "    length = np.linalg.norm(vec)\n",
    "    #\n",
    "    # Area contained in the section info\n",
    "    A = section_info['area']\n",
    "    # stiffness / Elastic modulus\n",
    "    E = material_info['elastic'][0]\n",
    "    #\n",
    "    # elemet axial stiffness / in local reference frame:\n",
    "    k = (A*E/length) * np.array([\n",
    "        [1, -1],\n",
    "        [-1, 1]])\n",
    "    #\n",
    "    # now transform that to cartesian coordinates:\n",
    "    # first calculate the transformation matrix\n",
    "    nx = vec[0]/length\n",
    "    ny = vec[1]/length\n",
    "    # \n",
    "    Q = np.array([\n",
    "        [nx, ny , 0 , 0],\n",
    "        [0,  0, nx , ny]])\n",
    "    #\n",
    "    #\n",
    "    # now transform\n",
    "    k_elem = np.dot(np.dot(Q.T, k), Q)\n",
    "    return k_elem\n",
    "    \n",
    "    "
   ]
  },
  {
   "cell_type": "code",
   "execution_count": 122,
   "metadata": {
    "scrolled": true
   },
   "outputs": [
    {
     "name": "stdout",
     "output_type": "stream",
     "text": [
      "\n",
      "The element stiffness matrix for element 1 is:\n",
      "\n",
      " [[ 0.02357023  0.02357023 -0.02357023 -0.02357023]\n",
      " [ 0.02357023  0.02357023 -0.02357023 -0.02357023]\n",
      " [-0.02357023 -0.02357023  0.02357023  0.02357023]\n",
      " [-0.02357023 -0.02357023  0.02357023  0.02357023]]\n"
     ]
    }
   ],
   "source": [
    "# test it out with the element, section and material info we've already explored...\n",
    "\n",
    "k_elem = el_stiffness(el_coords,section_info,material_info)\n",
    "print(f'\\nThe element stiffness matrix for element {el_nr} is:\\n\\n',k_elem)"
   ]
  },
  {
   "cell_type": "markdown",
   "metadata": {},
   "source": [
    "\n",
    "\n",
    "## The Global Stiffness Matrix\n",
    "\n",
    "** _Juan Gomes has a great notebook to explain assembling a local element stiffness matrix into the global stiffness matrix [09_assembly.ipynb](https://nbviewer.jupyter.org/github/jacojvr/Introductory-Finite-Elements/blob/a1431adaaaf5304a233e33e8967bde598790db9d/notebooks/09_assembly.ipynb)._\n",
    "\n",
    "In short...  \n",
    "we need to map and add the elements of a local stiffness matrix $K_{element}^{(n,d)}$ to the global position $K_{global}^{(i,j)}$\n",
    "\n",
    "The code below takes the 4x4 element stiffness matrix \n",
    "\n",
    "$$\n",
    "\\begin{bmatrix}1&2&3&4&\\\\5&6&7&8\\\\9&10&11&12\\\\13&14&15&16\\end{bmatrix}\n",
    "$$\n",
    "\n",
    "... and maps them to the global system of equantions using the element global degrees of freedom \\[ 0, 1, 4, 5\\]  \n",
    "the full system of equations has 6x degrees of freedom\n"
   ]
  },
  {
   "cell_type": "code",
   "execution_count": 123,
   "metadata": {},
   "outputs": [
    {
     "name": "stdout",
     "output_type": "stream",
     "text": [
      "\n",
      "** adding the following local stiffness values :\n",
      "\t [ 1  2  3  4  5  6  7  8  9 10 11 12 13 14 15 16]\n",
      "\n",
      "** to rows :\n",
      "\t [0, 0, 0, 0, 1, 1, 1, 1, 4, 4, 4, 4, 5, 5, 5, 5]\n",
      "\n",
      "** and columns :\n",
      "\t [0, 1, 4, 5, 0, 1, 4, 5, 0, 1, 4, 5, 0, 1, 4, 5]\n",
      "\n",
      "** we get the sparse global matrix representation :\n",
      "   (0, 0)\t1\n",
      "  (1, 0)\t5\n",
      "  (4, 0)\t9\n",
      "  (5, 0)\t13\n",
      "  (0, 1)\t2\n",
      "  (1, 1)\t6\n",
      "  (4, 1)\t10\n",
      "  (5, 1)\t14\n",
      "  (0, 4)\t3\n",
      "  (1, 4)\t7\n",
      "  (4, 4)\t11\n",
      "  (5, 4)\t15\n",
      "  (0, 5)\t4\n",
      "  (1, 5)\t8\n",
      "  (4, 5)\t12\n",
      "  (5, 5)\t16\n",
      "\n",
      "** and the dense global matrix representation :\n",
      " [[ 1  2  0  0  3  4]\n",
      " [ 5  6  0  0  7  8]\n",
      " [ 0  0  0  0  0  0]\n",
      " [ 0  0  0  0  0  0]\n",
      " [ 9 10  0  0 11 12]\n",
      " [13 14  0  0 15 16]]\n"
     ]
    }
   ],
   "source": [
    "# element level stiffness matrix\n",
    "k_e = np.array([[1,2,3,4],\n",
    "                [5,6,7,8],\n",
    "                [9,10,11,12],\n",
    "                [13,14,15,16]])\n",
    "# in global degrees of freedom\n",
    "pg = [0, 1, 4, 5] # can get this with our helper function \"el_dof(el_nodes)\" per element\n",
    "\n",
    "# instead of a full / dense matrix representation we'll use a sparse matrix\n",
    "# this means we don't use unnnecessary computer memory to store a whole bunch of zeros if we have a large system of equations\n",
    "# it also speeds up calculations\n",
    "#\n",
    "# the values added to the sparse matrix are a flattened local stiffness matrix\n",
    "values = k_e.flatten()\n",
    "print('\\n** adding the following local stiffness values :\\n\\t',values)\n",
    "# in global row locations:\n",
    "rows = [i for i in pg for _ in range(4)]\n",
    "print('\\n** to rows :\\n\\t',rows)\n",
    "# in global columns locations:\n",
    "cols = [i for _ in range(4) for i in pg]\n",
    "print('\\n** and columns :\\n\\t',cols)\n",
    "\n",
    "# number of global degrees of freedom\n",
    "n_dof = 6\n",
    "#\n",
    "# we'll use the csr_matrix function in scipy.sparse to assemble the global system of equations\n",
    "k_global = sparse.csc_matrix((values,(rows,cols)),shape=(n_dof,n_dof));\n",
    "\n",
    "print('\\n** we get the sparse global matrix representation :\\n',k_global)\n",
    "\n",
    "print('\\n** and the dense global matrix representation :\\n',k_global.todense())"
   ]
  },
  {
   "cell_type": "markdown",
   "metadata": {},
   "source": [
    "\n",
    "## Assemble the global stiffness matrix (LHS) for the case dictionary\n",
    "\n",
    "Impartant to note that we:\n",
    "* loop through elements in all sections to assemble the system matrix\n",
    "* get all the active system degrees of freedom\n",
    "* remove prescribed degrees of freedom from the list of unknowns (i.e. don't solve for known degrees of freedom)"
   ]
  },
  {
   "cell_type": "code",
   "execution_count": 133,
   "metadata": {},
   "outputs": [
    {
     "name": "stdout",
     "output_type": "stream",
     "text": [
      "\n",
      "**The global stiffness matrix is:\n",
      " [[ 8.5355  3.5355 -3.5355 -3.5355 -5.      0.      0.      0.      0.\n",
      "   0.    ]\n",
      " [ 3.5355  3.5355 -3.5355 -3.5355  0.      0.      0.      0.      0.\n",
      "   0.    ]\n",
      " [-3.5355 -3.5355 12.0711  0.     -3.5355  3.5355 -5.      0.      0.\n",
      "   0.    ]\n",
      " [-3.5355 -3.5355  0.      7.0711  3.5355 -3.5355  0.      0.      0.\n",
      "   0.    ]\n",
      " [-5.      0.     -3.5355  3.5355 17.0711  0.     -3.5355 -3.5355 -5.\n",
      "   0.    ]\n",
      " [ 0.      0.      3.5355 -3.5355  0.      7.0711 -3.5355 -3.5355  0.\n",
      "   0.    ]\n",
      " [ 0.      0.     -5.      0.     -3.5355 -3.5355 12.0711  0.     -3.5355\n",
      "   3.5355]\n",
      " [ 0.      0.      0.      0.     -3.5355 -3.5355  0.      7.0711  3.5355\n",
      "  -3.5355]\n",
      " [ 0.      0.      0.      0.     -5.      0.     -3.5355  3.5355  8.5355\n",
      "  -3.5355]\n",
      " [ 0.      0.      0.      0.      0.      0.      3.5355 -3.5355 -3.5355\n",
      "   3.5355]]\n"
     ]
    }
   ],
   "source": [
    "# initialise global sparse matrix lists\n",
    "K_rows = []\n",
    "K_cols = []\n",
    "K_vals = []\n",
    "#\n",
    "# loop over sections defined in case\n",
    "for s_name in case['section']:\n",
    "    \n",
    "    section_info = case['section'][s_name]\n",
    "    elem_info = case['element'][section_info['el_set']]\n",
    "    material_info = case['material'][section_info['material']]\n",
    "    \n",
    "    # get element type and numbers\n",
    "    element_type = elem_info['type']\n",
    "    element_nrs = [el_nr for el_nr in elem_info.keys() if type(el_nr) is int]\n",
    "    \n",
    "    # loop over elements:\n",
    "    for el_nr in element_nrs:\n",
    "        # element nodes\n",
    "        el_nodes = elem_info[el_nr]\n",
    "        # element coordinates:\n",
    "        el_coords = np.array([case['node'][i] for i in el_nodes])\n",
    "        # element stiffness:\n",
    "        k_elem = el_stiffness(el_coords,section_info,material_info)\n",
    "        # element global degrees of freedom\n",
    "        pg = el_dof(el_nodes)\n",
    "        # add to global stiffness matrix:\n",
    "        K_rows += [i for i in pg for _ in range(4)]\n",
    "        K_cols += [i for _ in range(4) for i in pg]\n",
    "        K_vals += list(k_elem.flatten())\n",
    "\n",
    "# what are the unique / active degrees of freedom?\n",
    "all_dof = sorted(list(set(K_cols)))\n",
    "# assemble the global stiffness matrix\n",
    "k_global = sparse.csc_matrix((K_vals,(K_rows,K_cols)))\n",
    "\n",
    "print('\\n**The global stiffness matrix is:\\n',np.round(k_global.todense(),4))"
   ]
  },
  {
   "cell_type": "markdown",
   "metadata": {},
   "source": [
    "\n",
    "## Assemble the global force vector (RHS)\n"
   ]
  },
  {
   "cell_type": "code",
   "execution_count": 125,
   "metadata": {},
   "outputs": [
    {
     "data": {
      "text/plain": [
       "{(3, 1): -1}"
      ]
     },
     "execution_count": 125,
     "metadata": {},
     "output_type": "execute_result"
    }
   ],
   "source": [
    "case['step'][1]['cload']"
   ]
  },
  {
   "cell_type": "code",
   "execution_count": 134,
   "metadata": {},
   "outputs": [],
   "source": [
    "# get all the information for the solution step\n",
    "step_info = case['step'][1]\n",
    "\n",
    "# load information:\n",
    "load_info = step_info['cload']\n",
    "\n",
    "# initialise the global force vector (RHS)\n",
    "F_rows = []\n",
    "F_vals = []\n",
    "\n",
    "# fill the correct load values into the index associated with the\n",
    "# RHS global degrees of freedom\n",
    "for dof,val in load_info.items():\n",
    "    F_rows += [g_dof(dof)]\n",
    "    F_vals += [val]\n",
    "\n",
    "# global (sparse) force vector\n",
    "f_global = sparse.csc_matrix((F_vals,(F_rows,[0]*F_rows.__len__())),(np.max(all_dof)+1,1))\n"
   ]
  },
  {
   "cell_type": "markdown",
   "metadata": {},
   "source": [
    "\n",
    "## Solve the (unknown) displacements\n"
   ]
  },
  {
   "cell_type": "code",
   "execution_count": 135,
   "metadata": {},
   "outputs": [
    {
     "name": "stdout",
     "output_type": "stream",
     "text": [
      "system left with unknown dof :\n",
      "\t [2, 3, 4, 5, 6, 7, 8]\n"
     ]
    }
   ],
   "source": [
    "# first, identify all of the degrees of freedom\n",
    "# all_dof = already defined\n",
    "\n",
    "# FIXED prescribed / known dof & Displacement (U):\n",
    "dof_k = []\n",
    "U_k = []\n",
    "for dof,val in case['boundary'].items():\n",
    "    dof_k += [g_dof(dof)]\n",
    "    U_k += [val]\n",
    "    \n",
    "# STEP prescribed dof: \n",
    "step_info = case['step'][1]\n",
    "if 'boundary' in step_info.keys():\n",
    "    for dof,val in step_info['boundary'].items():\n",
    "        dof_k += [g_dof(dof)]\n",
    "        U_k += [val]\n",
    "        \n",
    "# UNKNOWN dof:\n",
    "dof_u = [dof for dof in all_dof if dof not in dof_k]\n",
    "\n",
    "print('system left with unknown dof :\\n\\t',dof_u)"
   ]
  },
  {
   "cell_type": "code",
   "execution_count": 137,
   "metadata": {},
   "outputs": [],
   "source": [
    "# subset of equations to solve the unknown dof's:\n",
    "K_u = k_global.T[dof_u].T[dof_u]\n",
    "F_u = f_global[dof_u]\n",
    "\n",
    "U_u = sparse.linalg.spsolve(K_u,F_u)"
   ]
  },
  {
   "cell_type": "markdown",
   "metadata": {},
   "source": [
    "\n",
    "# Display solution\n",
    "\n",
    "First - we need a helper function that converts global dof back into (node, direction)\n"
   ]
  },
  {
   "cell_type": "markdown",
   "metadata": {},
   "source": [
    "\n",
    "## (UTILITY FUNCTION 3)\n",
    "Here we define and test a function that takes a global degree of freedom and converts it into a tuple of (node, local dof):\n",
    "\n",
    "For our global system, note that Python uses 0 indexing, so:\n",
    " * Node 1, Direction 1 (x) will be global dof = 0\n",
    " * Node 1, Direction 2 (y) will be global dof = 1\n",
    " * There is no direction 3 (z) in 2D - so...\n",
    " * Node 2, Direction 1 (x) will be global dof = 3\n",
    " * ... and so on\n"
   ]
  },
  {
   "cell_type": "code",
   "execution_count": 129,
   "metadata": {},
   "outputs": [
    {
     "name": "stdout",
     "output_type": "stream",
     "text": [
      "\n",
      "**The global degree of freedom 0 in a 2-dimensional space is associated with node 1 in direction 1\n",
      "\n",
      "**The global degree of freedom 1 in a 2-dimensional space is associated with node 1 in direction 2\n",
      "\n",
      "**The global degree of freedom 4 in a 2-dimensional space is associated with node 3 in direction 1\n",
      "\n",
      "**The global degree of freedom 29 in a 2-dimensional space is associated with node 15 in direction 2\n"
     ]
    }
   ],
   "source": [
    "# Here we define and test a function that takes a global degree of freedom and returns a tuple of (node, local dof):\n",
    "#\n",
    "# For our global system, note that Python uses 0 indexing, so:\n",
    "# Global dof = 0 will be Node 1, Direction 1\n",
    "l_dof = lambda dof,dim=2 : (dof//dim+1, dof%dim+1)\n",
    "\n",
    "l_dof_print = lambda dof,dim=2 : print(f'\\n**The global degree of freedom {dof} in a {dim}-dimensional space is associated with node {dof//dim+1} in direction {dof%dim+1}')\n",
    "\n",
    "l_dof_print(0)\n",
    "l_dof_print(1)\n",
    "l_dof_print(4)\n",
    "l_dof_print(29)"
   ]
  },
  {
   "cell_type": "markdown",
   "metadata": {},
   "source": [
    "\n",
    "## Print / Write out the solution:\n"
   ]
  },
  {
   "cell_type": "code",
   "execution_count": 138,
   "metadata": {},
   "outputs": [
    {
     "name": "stdout",
     "output_type": "stream",
     "text": [
      "\n",
      "Solution to the unknown truss structure displacements:\n",
      "Node 2 displaces 0.2 in the x-direction \n",
      "Node 2 displaces -0.3414 in the y-direction \n",
      "Node 3 displaces 0.1 in the x-direction \n",
      "Node 3 displaces -0.5828 in the y-direction \n",
      "Node 4 displaces -0.0 in the x-direction \n",
      "Node 4 displaces -0.3414 in the y-direction \n",
      "Node 5 displaces 0.2 in the x-direction \n"
     ]
    }
   ],
   "source": [
    "print('\\nSolution to the unknown truss structure displacements:')\n",
    "for i in range(U_u.__len__()):\n",
    "    n_d = l_dof(dof_u[i])\n",
    "    val = U_u[i]\n",
    "    xy = {1:'x',2:'y'}\n",
    "    print(f'Node {n_d[0]} displaces {round(val,4)} in the {xy[n_d[1]]}-direction ')"
   ]
  },
  {
   "cell_type": "markdown",
   "metadata": {},
   "source": [
    "# Homework:\n",
    "\n",
    "Report back in a short text document / pdf:\n",
    "\n",
    "\n",
    "## Q1. Compare the solution you get in this notebook to that using Calculix:\n",
    "\n",
    "1.1 Is there a difference in the solution?  \n",
    "1.2 Looking at the \"machine precision zero values\" reported in Calculix (i.e. ~ 1e-16), why would Calculix not have exact zeros where we have it?  \n",
    "(you may refer to the Calculix User Manual...how does Calculix \"approximate\" the T3D2 element?)\n",
    "\n",
    "... here's the CCX input file:"
   ]
  },
  {
   "cell_type": "markdown",
   "metadata": {},
   "source": [
    "```\n",
    "**\n",
    "**  MODEL A  SIMPLE TRUSS STRUCTURE\n",
    "**\n",
    "**\n",
    "*NODE,NSET=Nall\n",
    "**\n",
    "1, 0.0, 0.0, 0.0\n",
    "2, 3.0, 0.0, 0.0\n",
    "3, 1.5, 1.5, 0.0\n",
    "**\n",
    "*ELEMENT,TYPE=T3D2,ELSET=EAll\n",
    "1, 1, 3\n",
    "2, 2, 3\n",
    "**\n",
    "*BOUNDARY\n",
    "1,1,1\n",
    "1,2,2\n",
    "2,1,1\n",
    "2,2,2\n",
    "NALL,3,3\n",
    "*MATERIAL,NAME=EXAMPLE\n",
    "*ELASTIC\n",
    "1.,0.\n",
    "*SOLID SECTION,ELSET=EAll,MATERIAL=EXAMPLE\n",
    "0.1\n",
    "*STEP\n",
    "*STATIC\n",
    "*CLOAD\n",
    "3, 1, -1.0\n",
    "*Node PRINT,NSET=Nall\n",
    "U,RF\n",
    "*END STEP\n",
    "\n",
    "```"
   ]
  },
  {
   "cell_type": "markdown",
   "metadata": {},
   "source": [
    "## Q2. Solve the following truss structure problem :\n",
    "\n",
    "** Please attach your CalculiX **input file** and Modified Notebook or **case dictionary** to your homework submission\n",
    "\n",
    "\n"
   ]
  },
  {
   "cell_type": "code",
   "execution_count": 132,
   "metadata": {},
   "outputs": [],
   "source": [
    "# Lets construct a case dictionary for the layout:\n",
    "case = {\n",
    "    # first define nodal coordinates { x,y } for each of the nodes\n",
    "        'node': {1:[0.0, 0.0, 0.0],\n",
    "                 2:[1.0, 1.0, 0.0],\n",
    "                 3:[2.0, 0.0, 0.0],\n",
    "                 4:[3.0, 1.0, 0.0],\n",
    "                 5:[4.0, 0.0, 0.0]},\n",
    "    # now define the elements (element sets defined by giving each a name) \n",
    "        'element': {'frame' : {'type': 't3d2', # the 2D Truss element consistent with CalculiX\n",
    "                               1 : [ 1, 2 ], \n",
    "                               2 : [ 1, 3 ], \n",
    "                               3 : [ 2, 3 ], \n",
    "                               4 : [ 2, 4 ], \n",
    "                               5 : [ 3, 4 ], \n",
    "                               6 : [ 3, 5 ], \n",
    "                               7 : [ 4, 5 ]}},\n",
    "    # define the FIXED displacement boundary conditions:\n",
    "    # takes the form... (node, dof) : value\n",
    "        'boundary' : {(1,1) : 0.,\n",
    "                      (1,2) : 0.,\n",
    "                      (5,2) : 0.},\n",
    "    # define materials used in the study, each material has a name and various properties associated with it\n",
    "    # we'll use material keywords (i) elastic, (ii) plastic and (iii) density in this course...\n",
    "    # this example material has only elastic behaviour\n",
    "        'material' : {'example' : {'elastic' : [ 100.0, 0.0] }, # elastic properties [ Young's Modulus, Poisson's ratio]\n",
    "                     },\n",
    "    # define a section to model ... typically linking an element set with a material and defining the section thickness / area\n",
    "        'section' : {0 : {'el_set' : 'frame', # element set\n",
    "                          'material' : 'example', # uses a specific material defined\n",
    "                          'area': 0.1}}, # has a specific thickness or area\n",
    "    # define the step to solve...\n",
    "    # this includes the time, loads and displacements active in a specific step\n",
    "    # we could have multiple steps for e.g. a loading and unloading process if we include further steps...[2,3 etc.]\n",
    "        'step' : {1 :  # time = [initial time step size, total step time, minimum step size, maximum step size]\n",
    "                      {'time' : [1., 1., 1., 1.],\n",
    "                       # define a concentrated / nodal load\n",
    "                       # takes the form... (node, dof) : value\n",
    "                       'cload' : {(3,2) : -1},   # node 3, direction 1 (x) has a concentrated load of -1 (at the end of the step time)\n",
    "                       # ... will use this to further define PRESCRIBED displacement or DISTRIBUTED loads later\n",
    "                       #\n",
    "                       #\n",
    "                       # also NOTE:\n",
    "                       # We can also do prescribed displacements in the step definition later on...\n",
    "                       # for this introduction and code to follow, we don't take prescribed displacements into account\n",
    "                       \n",
    "                      }}} "
   ]
  },
  {
   "cell_type": "markdown",
   "metadata": {},
   "source": [
    "```\n",
    "**\n",
    "**  MODEL A  SIMPLE TRUSS STRUCTURE\n",
    "**\n",
    "**\n",
    "*NODE,NSET=Nall\n",
    "**\n",
    "1, 0.0, 0.0, 0.0\n",
    "2, 1.0, 1.0, 0.0\n",
    "3, 2.0, 0.0, 0.0\n",
    "4, 3.0, 1.0, 0.0\n",
    "5, 4.0, 0.0, 0.0\n",
    "**\n",
    "*ELEMENT,TYPE=T3D2,ELSET=EAll\n",
    "1, 1, 2\n",
    "2, 1, 3\n",
    "3, 2, 3\n",
    "4, 2, 4\n",
    "5, 3, 4\n",
    "6, 3, 5\n",
    "7, 4, 5\n",
    "**\n",
    "*BOUNDARY\n",
    "1,1,1\n",
    "1,2,2\n",
    "5,2,2\n",
    "NALL,3,3\n",
    "*MATERIAL,NAME=EXAMPLE\n",
    "*ELASTIC\n",
    "100.,0.\n",
    "*SOLID SECTION,ELSET=EAll,MATERIAL=EXAMPLE\n",
    "0.1\n",
    "*STEP\n",
    "*STATIC\n",
    "*CLOAD\n",
    "3, 2, -1.0\n",
    "*Node PRINT,NSET=Nall\n",
    "U,RF\n",
    "*Node FILE,NSET=Nall\n",
    "U\n",
    "*El FILE,NSET=Nall\n",
    "S\n",
    "*END STEP\n",
    "```"
   ]
  },
  {
   "cell_type": "code",
   "execution_count": null,
   "metadata": {},
   "outputs": [],
   "source": []
  }
 ],
 "metadata": {
  "kernelspec": {
   "display_name": "Python 3",
   "language": "python",
   "name": "python3"
  },
  "language_info": {
   "codemirror_mode": {
    "name": "ipython",
    "version": 3
   },
   "file_extension": ".py",
   "mimetype": "text/x-python",
   "name": "python",
   "nbconvert_exporter": "python",
   "pygments_lexer": "ipython3",
   "version": "3.7.4"
  }
 },
 "nbformat": 4,
 "nbformat_minor": 2
}
